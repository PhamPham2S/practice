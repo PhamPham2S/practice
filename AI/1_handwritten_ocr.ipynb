{
 "cells": [
  {
   "cell_type": "code",
   "execution_count": 1,
   "id": "695a813c-dc3a-4d95-8d74-2424ff270e11",
   "metadata": {},
   "outputs": [],
   "source": [
    "# !mkdir examples\n",
    "# !cd examples && wget https://github.com/mrsyee/dl_apps/raw/main/ocr/examples/Hello.png\n",
    "# !cd examples && wget https://github.com/mrsyee/dl_apps/raw/main/ocr/examples/Hello_cursive.png\n",
    "# !cd examples && wget https://github.com/mrsyee/dl_apps/raw/main/ocr/examples/Red.png\n",
    "# !cd examples && wget https://github.com/mrsyee/dl_apps/raw/main/ocr/examples/sentence.png\n",
    "# !cd examples && wget https://github.com/mrsyee/dl_apps/raw/main/ocr/examples/i_love_you.png\n",
    "# !cd examples && wget https://github.com/mrsyee/dl_apps/raw/main/ocr/examples/merrychristmas.png\n",
    "# !cd examples && wget https://github.com/mrsyee/dl_apps/raw/main/ocr/examples/Rock.png\n",
    "# !cd examples && wget https://github.com/mrsyee/dl_apps/raw/main/ocr/examples/Bob.png"
   ]
  },
  {
   "cell_type": "code",
   "execution_count": 2,
   "id": "68f5de5f-b562-45bb-bcfa-67b7da8aeb78",
   "metadata": {},
   "outputs": [],
   "source": [
    "import os\n",
    "import numpy as np\n",
    "import gradio as gr\n",
    "from PIL import Image\n",
    "from transformers import TrOCRProcessor, AutoModelForVision2Seq"
   ]
  },
  {
   "cell_type": "code",
   "execution_count": 3,
   "id": "7382ae2b-7a9f-4aaa-b4f2-a70c948c23a1",
   "metadata": {},
   "outputs": [
    {
     "name": "stdout",
     "output_type": "stream",
     "text": [
      "False\n"
     ]
    }
   ],
   "source": [
    "import torch\n",
    "print(torch.cuda.is_available())"
   ]
  },
  {
   "cell_type": "markdown",
   "id": "52be3f9b-df6a-4754-a781-3a8f419ab21d",
   "metadata": {},
   "source": [
    "# Section 1: Image Upload UI"
   ]
  },
  {
   "cell_type": "code",
   "execution_count": 4,
   "id": "00e3c0b5-36bb-472c-ae30-c16f42dff510",
   "metadata": {},
   "outputs": [],
   "source": [
    "# Create a simple image upload interface using Gradio\n",
    "with gr.Blocks() as app:\n",
    "    gr.Markdown(\"# Handwritten Image OCR\")\n",
    "    image = gr.Image(label=\"Handwritten image file\")  # Image upload input\n",
    "    output = gr.Textbox(label=\"Output Box\")  # Textbox to show OCR result\n",
    "    convert_btn = gr.Button(\"Convert\")  # Button to trigger OCR conversion"
   ]
  },
  {
   "cell_type": "code",
   "execution_count": 5,
   "id": "a02cc841-b532-4fc4-adf0-687bc69c31f6",
   "metadata": {},
   "outputs": [
    {
     "name": "stdout",
     "output_type": "stream",
     "text": [
      "Running on local URL:  http://127.0.0.1:7860\n",
      "Running on public URL: https://cd672f778d9230b356.gradio.live\n",
      "\n",
      "This share link expires in 72 hours. For free permanent hosting and GPU upgrades, run `gradio deploy` from Terminal to deploy to Spaces (https://huggingface.co/spaces)\n"
     ]
    },
    {
     "data": {
      "text/plain": []
     },
     "execution_count": 5,
     "metadata": {},
     "output_type": "execute_result"
    }
   ],
   "source": [
    "app.launch(inline=False, share=True)  # Launch the app without inline display and share the link"
   ]
  },
  {
   "cell_type": "markdown",
   "id": "4d971d96-9432-48ae-b421-d70f2c70614a",
   "metadata": {},
   "source": [
    "# Section 2: Implement Handwritten OCR with TrOCR Model"
   ]
  },
  {
   "cell_type": "code",
   "execution_count": 25,
   "id": "a8de00d8-b65a-4103-bf68-3308cbb923a9",
   "metadata": {},
   "outputs": [],
   "source": [
    "# Class to handle TrOCR-based OCR processing\n",
    "class TrOCRInferencer:\n",
    "    def __init__(self):\n",
    "        print(\"[info] init TrOCR Inferencer\")\n",
    "\n",
    "        # Initialize the processor\n",
    "        self.processor = TrOCRProcessor.from_pretrained(\"microsoft/trocr-large-handwritten\", clean_up_tokenization_spaces=True)\n",
    "        \n",
    "        # Initialize the model using AutoModel\n",
    "        self.model = AutoModelForVision2Seq.from_pretrained(\"microsoft/trocr-large-handwritten\")\n",
    "    \n",
    "    # Method to process and infer text from an image\n",
    "    def inference(self, image):\n",
    "        pixel_values = self.processor(images=image, return_tensors='pt').pixel_values\n",
    "        generated_ids = self.model.generate(pixel_values)\n",
    "        generated_text = self.processor.batch_decode(generated_ids, skip_special_tokens=True)[0]\n",
    "        \n",
    "        return generated_text"
   ]
  },
  {
   "cell_type": "code",
   "execution_count": null,
   "id": "3abb5c43-f966-479f-a04e-fcd6b88a0b43",
   "metadata": {},
   "outputs": [
    {
     "name": "stdout",
     "output_type": "stream",
     "text": [
      "[info] init TrOCR Inferencer\n"
     ]
    }
   ],
   "source": [
    "# Create an instance of TrOCRInferencer\n",
    "inferencer = TrOCRInferencer()"
   ]
  },
  {
   "cell_type": "markdown",
   "id": "c6f6ccce-7a39-4b08-bacb-a881162fcfc3",
   "metadata": {},
   "source": [
    "# Section 3: Image-to-Text Functionality"
   ]
  },
  {
   "cell_type": "code",
   "execution_count": 21,
   "id": "6974e6fe-31d1-480e-8924-15c4fb73bca9",
   "metadata": {},
   "outputs": [],
   "source": [
    "# Function to convert an uploaded image to text using the OCR model\n",
    "def image_to_text(image):\n",
    "    image = Image.fromarray(image).convert('RGB')  # Convert the image to RGB\n",
    "    text = inferencer.inference(image)  # Get the predicted text\n",
    "    return text"
   ]
  },
  {
   "cell_type": "code",
   "execution_count": 9,
   "id": "9944c4fb-ef17-4212-8332-50c406581e85",
   "metadata": {},
   "outputs": [],
   "source": [
    "# Create a Gradio interface for image upload and OCR conversion\n",
    "with gr.Blocks() as app:\n",
    "    gr.Markdown(\"# Handwritten Image OCR\")  # Add a title\n",
    "    image = gr.Image(label=\"Handwritten image file\")  # Image upload input\n",
    "    output = gr.Textbox(label=\"Output Box\")  # Textbox to display OCR result\n",
    "    convert_btn = gr.Button(\"Convert\")  # Convert button\n",
    "    convert_btn.click(\n",
    "        fn=image_to_text, inputs=image, outputs=output  # Link the button to the OCR function\n",
    "    )"
   ]
  },
  {
   "cell_type": "code",
   "execution_count": 10,
   "id": "c35628a3-8aee-4d06-9ede-74298f39dffd",
   "metadata": {},
   "outputs": [
    {
     "name": "stdout",
     "output_type": "stream",
     "text": [
      "Running on local URL:  http://127.0.0.1:7861\n",
      "Running on public URL: https://d4808841892014290f.gradio.live\n",
      "\n",
      "This share link expires in 72 hours. For free permanent hosting and GPU upgrades, run `gradio deploy` from Terminal to deploy to Spaces (https://huggingface.co/spaces)\n"
     ]
    },
    {
     "data": {
      "text/plain": []
     },
     "execution_count": 10,
     "metadata": {},
     "output_type": "execute_result"
    }
   ],
   "source": [
    "app.launch(inline=False, share=True)  # Launch the app"
   ]
  },
  {
   "cell_type": "markdown",
   "id": "db31ca3b-491f-48e7-b6c5-6717369025b3",
   "metadata": {},
   "source": [
    "# Section 4: Canvas UI for Handwritten Drawing Recognition"
   ]
  },
  {
   "cell_type": "code",
   "execution_count": 11,
   "id": "a3553991-8539-41d0-9a2b-7f0c113a3075",
   "metadata": {},
   "outputs": [],
   "source": [
    "# Create a sketchpad for users to draw their handwriting, then recognize it using OCR\n",
    "with gr.Blocks() as app:\n",
    "    gr.Markdown(\"# Handwritten Image OCR\")\n",
    "    sketchpad = gr.Sketchpad(\n",
    "        label=\"Handwritten Sketchpad\",\n",
    "        height=300,\n",
    "        width=600,\n",
    "    )\n",
    "    output = gr.Textbox(label=\"Output Box\")  # Textbox for OCR result\n",
    "    convert_btn = gr.Button(\"Convert\")  # Button to trigger OCR on the drawing\n",
    "    convert_btn.click(\n",
    "        fn=image_to_text, inputs=sketchpad, outputs=output  # Link sketchpad input to OCR function\n",
    "    )"
   ]
  },
  {
   "cell_type": "code",
   "execution_count": 12,
   "id": "ee150ed9-468d-4092-bc7c-3015795ee82f",
   "metadata": {},
   "outputs": [
    {
     "name": "stdout",
     "output_type": "stream",
     "text": [
      "Running on local URL:  http://127.0.0.1:7862\n",
      "Running on public URL: https://a3c81ec42e7fd48252.gradio.live\n",
      "\n",
      "This share link expires in 72 hours. For free permanent hosting and GPU upgrades, run `gradio deploy` from Terminal to deploy to Spaces (https://huggingface.co/spaces)\n"
     ]
    },
    {
     "data": {
      "text/plain": []
     },
     "execution_count": 12,
     "metadata": {},
     "output_type": "execute_result"
    },
    {
     "name": "stderr",
     "output_type": "stream",
     "text": [
      "Traceback (most recent call last):\n",
      "  File \"/root/miniconda3/envs/my_env/lib/python3.9/site-packages/gradio/queueing.py\", line 536, in process_events\n",
      "    response = await route_utils.call_process_api(\n",
      "  File \"/root/miniconda3/envs/my_env/lib/python3.9/site-packages/gradio/route_utils.py\", line 322, in call_process_api\n",
      "    output = await app.get_blocks().process_api(\n",
      "  File \"/root/miniconda3/envs/my_env/lib/python3.9/site-packages/gradio/blocks.py\", line 1935, in process_api\n",
      "    result = await self.call_function(\n",
      "  File \"/root/miniconda3/envs/my_env/lib/python3.9/site-packages/gradio/blocks.py\", line 1520, in call_function\n",
      "    prediction = await anyio.to_thread.run_sync(  # type: ignore\n",
      "  File \"/root/miniconda3/envs/my_env/lib/python3.9/site-packages/anyio/to_thread.py\", line 56, in run_sync\n",
      "    return await get_async_backend().run_sync_in_worker_thread(\n",
      "  File \"/root/miniconda3/envs/my_env/lib/python3.9/site-packages/anyio/_backends/_asyncio.py\", line 2405, in run_sync_in_worker_thread\n",
      "    return await future\n",
      "  File \"/root/miniconda3/envs/my_env/lib/python3.9/site-packages/anyio/_backends/_asyncio.py\", line 914, in run\n",
      "    result = context.run(func, *args)\n",
      "  File \"/root/miniconda3/envs/my_env/lib/python3.9/site-packages/gradio/utils.py\", line 826, in wrapper\n",
      "    response = f(*args, **kwargs)\n",
      "  File \"/tmp/ipykernel_2918/3184521806.py\", line 3, in image_to_text\n",
      "    image = Image.fromarray(image).convert('RGB')  # Convert the image to RGB\n",
      "  File \"/root/miniconda3/envs/my_env/lib/python3.9/site-packages/PIL/Image.py\", line 3266, in fromarray\n",
      "    arr = obj.__array_interface__\n",
      "AttributeError: 'dict' object has no attribute '__array_interface__'\n"
     ]
    }
   ],
   "source": [
    "app.launch(inline=False, share=True)  # Launch the app"
   ]
  },
  {
   "cell_type": "markdown",
   "id": "c6e86946-8636-4d9c-97a7-cc3464adc0fa",
   "metadata": {},
   "source": [
    "# Section 5: Final App with Tabs for Image Upload and Drawing"
   ]
  },
  {
   "cell_type": "code",
   "execution_count": 22,
   "id": "c0066abf-f3ff-4629-b877-2434421101f4",
   "metadata": {},
   "outputs": [],
   "source": [
    "# Build the final app with tabs for both image upload and sketchpad\n",
    "with gr.Blocks() as app:\n",
    "    gr.Markdown(\"# Handwritten Image OCR\")\n",
    "\n",
    "    # First Tab: Image upload and OCR\n",
    "    with gr.Tab(\"Image upload\"):\n",
    "        image = gr.Image(label=\"Handwritten image file\")\n",
    "        output = gr.Textbox(label=\"Output Box\")\n",
    "        convert_btn = gr.Button(\"Convert\")\n",
    "        convert_btn.click(\n",
    "            fn=image_to_text, inputs=image, outputs=output  # Link the image input to OCR function\n",
    "        )\n",
    "        gr.Markdown(\"## Image Examples\")\n",
    "        # Provide example images for users to test\n",
    "        gr.Examples(\n",
    "            examples=[\n",
    "                os.path.join(os.getcwd(), \"examples/Hello.png\"),\n",
    "                os.path.join(os.getcwd(), \"examples/Hello_cursive.png\"),\n",
    "                os.path.join(os.getcwd(), \"examples/Red.png\"),\n",
    "                os.path.join(os.getcwd(), \"examples/sentence.png\"),\n",
    "                os.path.join(os.getcwd(), \"examples/i_love_you.png\"),\n",
    "                os.path.join(os.getcwd(), \"examples/merrychristmas.png\"),\n",
    "                os.path.join(os.getcwd(), \"examples/Rock.png\"),\n",
    "                os.path.join(os.getcwd(), \"examples/Bob.png\"),\n",
    "            ],\n",
    "            inputs=image,\n",
    "            outputs=output,\n",
    "            fn=image_to_text\n",
    "        )\n",
    "\n",
    "    # Second Tab: Drawing on a sketchpad and recognizing the text\n",
    "    with gr.Tab(\"Drawing\"):\n",
    "        gr.Markdown(\"# Handwritten Image OCR\")\n",
    "        sketchpad = gr.Sketchpad(\n",
    "            label=\"Handwritten Sketchpad\",\n",
    "            height=300,\n",
    "            width=600,\n",
    "        )\n",
    "        output = gr.Textbox(label=\"Output Box\")\n",
    "        convert_btn = gr.Button(\"Convert\")\n",
    "        convert_btn.click(\n",
    "            fn=image_to_text, inputs=sketchpad, outputs=output  # Link sketchpad input to OCR function\n",
    "        )"
   ]
  },
  {
   "cell_type": "code",
   "execution_count": 23,
   "id": "569f7067-997f-42bc-b6d1-66f419f5d562",
   "metadata": {
    "scrolled": true
   },
   "outputs": [
    {
     "name": "stdout",
     "output_type": "stream",
     "text": [
      "Running on local URL:  http://127.0.0.1:7864\n",
      "Running on public URL: https://5083b7cdbaf827d208.gradio.live\n",
      "\n",
      "This share link expires in 72 hours. For free permanent hosting and GPU upgrades, run `gradio deploy` from Terminal to deploy to Spaces (https://huggingface.co/spaces)\n"
     ]
    },
    {
     "data": {
      "text/plain": []
     },
     "execution_count": 23,
     "metadata": {},
     "output_type": "execute_result"
    },
    {
     "name": "stderr",
     "output_type": "stream",
     "text": [
      "Traceback (most recent call last):\n",
      "  File \"/root/miniconda3/envs/my_env/lib/python3.9/site-packages/gradio/queueing.py\", line 536, in process_events\n",
      "    response = await route_utils.call_process_api(\n",
      "  File \"/root/miniconda3/envs/my_env/lib/python3.9/site-packages/gradio/route_utils.py\", line 322, in call_process_api\n",
      "    output = await app.get_blocks().process_api(\n",
      "  File \"/root/miniconda3/envs/my_env/lib/python3.9/site-packages/gradio/blocks.py\", line 1935, in process_api\n",
      "    result = await self.call_function(\n",
      "  File \"/root/miniconda3/envs/my_env/lib/python3.9/site-packages/gradio/blocks.py\", line 1520, in call_function\n",
      "    prediction = await anyio.to_thread.run_sync(  # type: ignore\n",
      "  File \"/root/miniconda3/envs/my_env/lib/python3.9/site-packages/anyio/to_thread.py\", line 56, in run_sync\n",
      "    return await get_async_backend().run_sync_in_worker_thread(\n",
      "  File \"/root/miniconda3/envs/my_env/lib/python3.9/site-packages/anyio/_backends/_asyncio.py\", line 2405, in run_sync_in_worker_thread\n",
      "    return await future\n",
      "  File \"/root/miniconda3/envs/my_env/lib/python3.9/site-packages/anyio/_backends/_asyncio.py\", line 914, in run\n",
      "    result = context.run(func, *args)\n",
      "  File \"/root/miniconda3/envs/my_env/lib/python3.9/site-packages/gradio/utils.py\", line 826, in wrapper\n",
      "    response = f(*args, **kwargs)\n",
      "  File \"/tmp/ipykernel_2918/3184521806.py\", line 3, in image_to_text\n",
      "    image = Image.fromarray(image).convert('RGB')  # Convert the image to RGB\n",
      "  File \"/root/miniconda3/envs/my_env/lib/python3.9/site-packages/PIL/Image.py\", line 3266, in fromarray\n",
      "    arr = obj.__array_interface__\n",
      "AttributeError: 'dict' object has no attribute '__array_interface__'\n",
      "Traceback (most recent call last):\n",
      "  File \"/root/miniconda3/envs/my_env/lib/python3.9/site-packages/gradio/queueing.py\", line 536, in process_events\n",
      "    response = await route_utils.call_process_api(\n",
      "  File \"/root/miniconda3/envs/my_env/lib/python3.9/site-packages/gradio/route_utils.py\", line 322, in call_process_api\n",
      "    output = await app.get_blocks().process_api(\n",
      "  File \"/root/miniconda3/envs/my_env/lib/python3.9/site-packages/gradio/blocks.py\", line 1935, in process_api\n",
      "    result = await self.call_function(\n",
      "  File \"/root/miniconda3/envs/my_env/lib/python3.9/site-packages/gradio/blocks.py\", line 1520, in call_function\n",
      "    prediction = await anyio.to_thread.run_sync(  # type: ignore\n",
      "  File \"/root/miniconda3/envs/my_env/lib/python3.9/site-packages/anyio/to_thread.py\", line 56, in run_sync\n",
      "    return await get_async_backend().run_sync_in_worker_thread(\n",
      "  File \"/root/miniconda3/envs/my_env/lib/python3.9/site-packages/anyio/_backends/_asyncio.py\", line 2405, in run_sync_in_worker_thread\n",
      "    return await future\n",
      "  File \"/root/miniconda3/envs/my_env/lib/python3.9/site-packages/anyio/_backends/_asyncio.py\", line 914, in run\n",
      "    result = context.run(func, *args)\n",
      "  File \"/root/miniconda3/envs/my_env/lib/python3.9/site-packages/gradio/utils.py\", line 826, in wrapper\n",
      "    response = f(*args, **kwargs)\n",
      "  File \"/tmp/ipykernel_2918/3184521806.py\", line 3, in image_to_text\n",
      "    image = Image.fromarray(image).convert('RGB')  # Convert the image to RGB\n",
      "  File \"/root/miniconda3/envs/my_env/lib/python3.9/site-packages/PIL/Image.py\", line 3266, in fromarray\n",
      "    arr = obj.__array_interface__\n",
      "AttributeError: 'dict' object has no attribute '__array_interface__'\n",
      "/root/miniconda3/envs/my_env/lib/python3.9/site-packages/transformers/generation/utils.py:1220: UserWarning: Using the model-agnostic default `max_length` (=20) to control the generation length. We recommend setting `max_new_tokens` to control the maximum length of the generation.\n",
      "  warnings.warn(\n"
     ]
    }
   ],
   "source": [
    "app.launch(inline=False, share=True)  # Launch the app with sharing enabled"
   ]
  }
 ],
 "metadata": {
  "kernelspec": {
   "display_name": "Python 3 (ipykernel)",
   "language": "python",
   "name": "python3"
  },
  "language_info": {
   "codemirror_mode": {
    "name": "ipython",
    "version": 3
   },
   "file_extension": ".py",
   "mimetype": "text/x-python",
   "name": "python",
   "nbconvert_exporter": "python",
   "pygments_lexer": "ipython3",
   "version": "3.9.19"
  }
 },
 "nbformat": 4,
 "nbformat_minor": 5
}
