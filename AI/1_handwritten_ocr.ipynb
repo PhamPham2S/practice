{
 "cells": [
  {
   "cell_type": "code",
   "execution_count": null,
   "id": "695a813c-dc3a-4d95-8d74-2424ff270e11",
   "metadata": {},
   "outputs": [],
   "source": [
    "# !mkdir examples\n",
    "# !cd examples && wget https://github.com/mrsyee/dl_apps/raw/main/ocr/examples/Hello.png\n",
    "# !cd examples && wget https://github.com/mrsyee/dl_apps/raw/main/ocr/examples/Hello_cursive.png\n",
    "# !cd examples && wget https://github.com/mrsyee/dl_apps/raw/main/ocr/examples/Red.png\n",
    "# !cd examples && wget https://github.com/mrsyee/dl_apps/raw/main/ocr/examples/sentence.png\n",
    "# !cd examples && wget https://github.com/mrsyee/dl_apps/raw/main/ocr/examples/i_love_you.png\n",
    "# !cd examples && wget https://github.com/mrsyee/dl_apps/raw/main/ocr/examples/merrychristmas.png\n",
    "# !cd examples && wget https://github.com/mrsyee/dl_apps/raw/main/ocr/examples/Rock.png\n",
    "# !cd examples && wget https://github.com/mrsyee/dl_apps/raw/main/ocr/examples/Bob.png"
   ]
  },
  {
   "cell_type": "code",
   "execution_count": null,
   "id": "68f5de5f-b562-45bb-bcfa-67b7da8aeb78",
   "metadata": {},
   "outputs": [],
   "source": [
    "import os\n",
    "import numpy as np\n",
    "import gradio as gr\n",
    "from PIL import Image\n",
    "from transformers import TrOCRProcessor, VisionEncoderDecoderModel"
   ]
  },
  {
   "cell_type": "code",
   "execution_count": null,
   "id": "7382ae2b-7a9f-4aaa-b4f2-a70c948c23a1",
   "metadata": {},
   "outputs": [],
   "source": [
    "import torch\n",
    "print(torch.cuda.is_available())"
   ]
  },
  {
   "cell_type": "markdown",
   "id": "52be3f9b-df6a-4754-a781-3a8f419ab21d",
   "metadata": {},
   "source": [
    "# Section 1: Image Upload UI"
   ]
  },
  {
   "cell_type": "code",
   "execution_count": 13,
   "id": "00e3c0b5-36bb-472c-ae30-c16f42dff510",
   "metadata": {},
   "outputs": [],
   "source": [
    "# Create a simple image upload interface using Gradio\n",
    "with gr.Blocks() as app:\n",
    "    gr.Markdown(\"# Handwritten Image OCR\")\n",
    "    image = gr.Image(label=\"Handwritten image file\")  # Image upload input\n",
    "    output = gr.Textbox(label=\"Output Box\")  # Textbox to show OCR result\n",
    "    convert_btn = gr.Button(\"Convert\")  # Button to trigger OCR conversion"
   ]
  },
  {
   "cell_type": "code",
   "execution_count": 14,
   "id": "a02cc841-b532-4fc4-adf0-687bc69c31f6",
   "metadata": {},
   "outputs": [
    {
     "name": "stdout",
     "output_type": "stream",
     "text": [
      "Running on local URL:  http://127.0.0.1:7860\n",
      "Running on public URL: https://d860293b2ee8d209b0.gradio.live\n",
      "\n",
      "This share link expires in 72 hours. For free permanent hosting and GPU upgrades, run `gradio deploy` from Terminal to deploy to Spaces (https://huggingface.co/spaces)\n"
     ]
    },
    {
     "data": {
      "text/plain": []
     },
     "execution_count": 14,
     "metadata": {},
     "output_type": "execute_result"
    }
   ],
   "source": [
    "app.launch(inline=False, share=True)  # Launch the app without inline display and share the link"
   ]
  },
  {
   "cell_type": "markdown",
   "id": "4d971d96-9432-48ae-b421-d70f2c70614a",
   "metadata": {},
   "source": [
    "# Section 2: Implement Handwritten OCR with TrOCR Model"
   ]
  },
  {
   "cell_type": "code",
   "execution_count": 16,
   "id": "a8de00d8-b65a-4103-bf68-3308cbb923a9",
   "metadata": {},
   "outputs": [],
   "source": [
    "# Class to handle TrOCR-based OCR processing\n",
    "class TrOCRInferencer:\n",
    "    def __init__(self):\n",
    "        print(\"[info] init TrOCR Inferencer\")\n",
    "        # Initialize the processor and model using pretrained TrOCR model\n",
    "        self.processor = TrOCRProcessor.from_pretrained(\"microsoft/trocr-large-handwritten\")\n",
    "        self.model = VisionEncoderDecoderModel.from_pretrained(\"microsoft/trocr-large-handwritten\")\n",
    "        \n",
    "    # Method to process and infer text from an image\n",
    "    def inference(self, image):\n",
    "        pixel_values = self.processor(images=image, return_tensors='pt').pixel_values\n",
    "        generated_ids = self.model.generate(pixel_values)\n",
    "        generated_text = self.processor.batch_decode(generated_ids, skip_special_tokens=True)[0]\n",
    "        \n",
    "        return generated_text"
   ]
  },
  {
   "cell_type": "code",
   "execution_count": null,
   "id": "3abb5c43-f966-479f-a04e-fcd6b88a0b43",
   "metadata": {},
   "outputs": [],
   "source": [
    "# Create an instance of TrOCRInferencer\n",
    "inferencer = TrOCRInferencer()"
   ]
  },
  {
   "cell_type": "code",
   "execution_count": null,
   "id": "52dcfba2-581d-4596-8fee-08fc9f5a002c",
   "metadata": {},
   "outputs": [],
   "source": []
  },
  {
   "cell_type": "code",
   "execution_count": null,
   "id": "cb4428ff-578c-4749-adff-af91596a9cb9",
   "metadata": {},
   "outputs": [],
   "source": []
  },
  {
   "cell_type": "code",
   "execution_count": null,
   "id": "3f985002-a361-4132-85fa-c704150a98e6",
   "metadata": {},
   "outputs": [],
   "source": []
  },
  {
   "cell_type": "code",
   "execution_count": null,
   "id": "45e6abd4-c432-48ed-ba2f-d8894a12bec0",
   "metadata": {},
   "outputs": [],
   "source": []
  }
 ],
 "metadata": {
  "kernelspec": {
   "display_name": "Python 3 (ipykernel)",
   "language": "python",
   "name": "python3"
  },
  "language_info": {
   "codemirror_mode": {
    "name": "ipython",
    "version": 3
   },
   "file_extension": ".py",
   "mimetype": "text/x-python",
   "name": "python",
   "nbconvert_exporter": "python",
   "pygments_lexer": "ipython3",
   "version": "3.9.19"
  }
 },
 "nbformat": 4,
 "nbformat_minor": 5
}
