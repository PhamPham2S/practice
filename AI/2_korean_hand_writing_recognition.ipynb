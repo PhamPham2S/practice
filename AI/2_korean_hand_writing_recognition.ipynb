{
 "cells": [
  {
   "cell_type": "code",
   "execution_count": 1,
   "id": "a8bfc60f-f5a6-41b6-af86-052f151492aa",
   "metadata": {},
   "outputs": [],
   "source": [
    "# Import necessary libraries for processing, handling images, and building the Gradio interface\n",
    "import os\n",
    "import numpy as np\n",
    "import gradio as gr\n",
    "from PIL import Image"
   ]
  },
  {
   "cell_type": "code",
   "execution_count": 2,
   "id": "20cc2ee9-3c92-4555-9be0-00262a4e3cdd",
   "metadata": {},
   "outputs": [],
   "source": [
    "# Import the required modules from Hugging Face's transformers library\n",
    "from transformers import TrOCRProcessor, VisionEncoderDecoderModel, AutoTokenizer\n",
    "import requests \n",
    "import unicodedata\n",
    "from io import BytesIO\n",
    "from PIL import Image"
   ]
  },
  {
   "cell_type": "code",
   "execution_count": null,
   "id": "9de0eddb-fab6-474e-8cd9-a2b0df3a255f",
   "metadata": {},
   "outputs": [],
   "source": []
  },
  {
   "cell_type": "code",
   "execution_count": null,
   "id": "84a771aa-7eb7-49a7-b72a-3ede3e9c2abc",
   "metadata": {},
   "outputs": [],
   "source": []
  },
  {
   "cell_type": "code",
   "execution_count": null,
   "id": "501683bb-c8dc-4cdc-8515-e399342aff7a",
   "metadata": {},
   "outputs": [],
   "source": []
  },
  {
   "cell_type": "code",
   "execution_count": null,
   "id": "687dd562-0d34-43df-a97b-566a34090214",
   "metadata": {},
   "outputs": [],
   "source": []
  }
 ],
 "metadata": {
  "kernelspec": {
   "display_name": "Python 3 (ipykernel)",
   "language": "python",
   "name": "python3"
  },
  "language_info": {
   "codemirror_mode": {
    "name": "ipython",
    "version": 3
   },
   "file_extension": ".py",
   "mimetype": "text/x-python",
   "name": "python",
   "nbconvert_exporter": "python",
   "pygments_lexer": "ipython3",
   "version": "3.9.19"
  }
 },
 "nbformat": 4,
 "nbformat_minor": 5
}
